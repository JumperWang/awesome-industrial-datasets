{
 "cells": [
  {
   "cell_type": "code",
   "execution_count": 1,
   "metadata": {},
   "outputs": [],
   "source": [
    "%matplotlib inline \n",
    "%load_ext autoreload\n",
    "%autoreload 2\n",
    "\n",
    "import numpy as np\n",
    "import pandas as pd\n",
    "\n",
    "import os, sys, pickle"
   ]
  },
  {
   "cell_type": "markdown",
   "metadata": {},
   "source": [
    "## Files in Raw Data"
   ]
  },
  {
   "cell_type": "code",
   "execution_count": 4,
   "metadata": {},
   "outputs": [
    {
     "name": "stdout",
     "output_type": "stream",
     "text": [
      ".DS_Store\n",
      "secom_labels.data.txt\n",
      "secom.names.txt\n",
      "secom.data.txt\n"
     ]
    }
   ],
   "source": [
    "list(map(print, os.listdir('raw')));"
   ]
  },
  {
   "cell_type": "markdown",
   "metadata": {},
   "source": [
    "## Read Files"
   ]
  },
  {
   "cell_type": "code",
   "execution_count": 6,
   "metadata": {},
   "outputs": [],
   "source": [
    "df_header = pd.read_csv('raw/secom_labels.data.txt', header=None, sep=' ')\n",
    "df_value = pd.read_csv('raw/secom.data.txt', header=None, sep=' ')\n",
    "\n",
    "df_header.columns = ['Label', 'Time']\n",
    "df_header['Time'] = df_header['Time'].apply(lambda x: pd.to_datetime(x, format='%d/%m/%Y %H:%M:%S'))\n",
    "df_header['Label'] = df_header['Label'].map({-1: 'Pass', 1: 'Fail'})\n",
    "\n",
    "n_header_columns = df_header.shape[1]\n",
    "n_value_columns = df_value.shape[1]\n",
    "\n",
    "df_value.columns = [f'Measment {i}' for i in range(n_value_columns)]"
   ]
  },
  {
   "cell_type": "markdown",
   "metadata": {},
   "source": [
    "## Sort Samples"
   ]
  },
  {
   "cell_type": "code",
   "execution_count": 7,
   "metadata": {},
   "outputs": [],
   "source": [
    "df = pd.concat([df_header[['Time', 'Label']], df_value], axis=1)\n",
    "df = df.sort_values('Time')\n",
    "\n",
    "df_header = df.iloc[:n_header_columns]\n",
    "df_value = df.iloc[n_header_columns:]"
   ]
  },
  {
   "cell_type": "markdown",
   "metadata": {},
   "source": [
    "## Information"
   ]
  },
  {
   "cell_type": "code",
   "execution_count": 8,
   "metadata": {},
   "outputs": [
    {
     "name": "stdout",
     "output_type": "stream",
     "text": [
      "<class 'pandas.core.frame.DataFrame'>\n",
      "Int64Index: 1567 entries, 0 to 1566\n",
      "Columns: 592 entries, Time to Measment 589\n",
      "dtypes: datetime64[ns](1), float64(590), object(1)\n",
      "memory usage: 7.1+ MB\n"
     ]
    }
   ],
   "source": [
    "df.info()"
   ]
  },
  {
   "cell_type": "markdown",
   "metadata": {},
   "source": [
    "## Sample Rows"
   ]
  },
  {
   "cell_type": "code",
   "execution_count": 9,
   "metadata": {},
   "outputs": [
    {
     "data": {
      "text/html": [
       "<div>\n",
       "<style scoped>\n",
       "    .dataframe tbody tr th:only-of-type {\n",
       "        vertical-align: middle;\n",
       "    }\n",
       "\n",
       "    .dataframe tbody tr th {\n",
       "        vertical-align: top;\n",
       "    }\n",
       "\n",
       "    .dataframe thead th {\n",
       "        text-align: right;\n",
       "    }\n",
       "</style>\n",
       "<table border=\"1\" class=\"dataframe\">\n",
       "  <thead>\n",
       "    <tr style=\"text-align: right;\">\n",
       "      <th></th>\n",
       "      <th>Time</th>\n",
       "      <th>Label</th>\n",
       "      <th>Measment 0</th>\n",
       "      <th>Measment 1</th>\n",
       "      <th>Measment 2</th>\n",
       "      <th>Measment 3</th>\n",
       "      <th>Measment 4</th>\n",
       "      <th>Measment 5</th>\n",
       "      <th>Measment 6</th>\n",
       "      <th>Measment 7</th>\n",
       "      <th>...</th>\n",
       "      <th>Measment 580</th>\n",
       "      <th>Measment 581</th>\n",
       "      <th>Measment 582</th>\n",
       "      <th>Measment 583</th>\n",
       "      <th>Measment 584</th>\n",
       "      <th>Measment 585</th>\n",
       "      <th>Measment 586</th>\n",
       "      <th>Measment 587</th>\n",
       "      <th>Measment 588</th>\n",
       "      <th>Measment 589</th>\n",
       "    </tr>\n",
       "  </thead>\n",
       "  <tbody>\n",
       "    <tr>\n",
       "      <th>0</th>\n",
       "      <td>2008-07-19 11:55:00</td>\n",
       "      <td>Pass</td>\n",
       "      <td>3030.93</td>\n",
       "      <td>2564.00</td>\n",
       "      <td>2187.7333</td>\n",
       "      <td>1411.1265</td>\n",
       "      <td>1.3602</td>\n",
       "      <td>100.0</td>\n",
       "      <td>97.6133</td>\n",
       "      <td>0.1242</td>\n",
       "      <td>...</td>\n",
       "      <td>NaN</td>\n",
       "      <td>NaN</td>\n",
       "      <td>0.5005</td>\n",
       "      <td>0.0118</td>\n",
       "      <td>0.0035</td>\n",
       "      <td>2.3630</td>\n",
       "      <td>NaN</td>\n",
       "      <td>NaN</td>\n",
       "      <td>NaN</td>\n",
       "      <td>NaN</td>\n",
       "    </tr>\n",
       "    <tr>\n",
       "      <th>1</th>\n",
       "      <td>2008-07-19 12:32:00</td>\n",
       "      <td>Pass</td>\n",
       "      <td>3095.78</td>\n",
       "      <td>2465.14</td>\n",
       "      <td>2230.4222</td>\n",
       "      <td>1463.6606</td>\n",
       "      <td>0.8294</td>\n",
       "      <td>100.0</td>\n",
       "      <td>102.3433</td>\n",
       "      <td>0.1247</td>\n",
       "      <td>...</td>\n",
       "      <td>0.0060</td>\n",
       "      <td>208.2045</td>\n",
       "      <td>0.5019</td>\n",
       "      <td>0.0223</td>\n",
       "      <td>0.0055</td>\n",
       "      <td>4.4447</td>\n",
       "      <td>0.0096</td>\n",
       "      <td>0.0201</td>\n",
       "      <td>0.0060</td>\n",
       "      <td>208.2045</td>\n",
       "    </tr>\n",
       "    <tr>\n",
       "      <th>2</th>\n",
       "      <td>2008-07-19 13:17:00</td>\n",
       "      <td>Fail</td>\n",
       "      <td>2932.61</td>\n",
       "      <td>2559.94</td>\n",
       "      <td>2186.4111</td>\n",
       "      <td>1698.0172</td>\n",
       "      <td>1.5102</td>\n",
       "      <td>100.0</td>\n",
       "      <td>95.4878</td>\n",
       "      <td>0.1241</td>\n",
       "      <td>...</td>\n",
       "      <td>0.0148</td>\n",
       "      <td>82.8602</td>\n",
       "      <td>0.4958</td>\n",
       "      <td>0.0157</td>\n",
       "      <td>0.0039</td>\n",
       "      <td>3.1745</td>\n",
       "      <td>0.0584</td>\n",
       "      <td>0.0484</td>\n",
       "      <td>0.0148</td>\n",
       "      <td>82.8602</td>\n",
       "    </tr>\n",
       "    <tr>\n",
       "      <th>3</th>\n",
       "      <td>2008-07-19 14:43:00</td>\n",
       "      <td>Pass</td>\n",
       "      <td>2988.72</td>\n",
       "      <td>2479.90</td>\n",
       "      <td>2199.0333</td>\n",
       "      <td>909.7926</td>\n",
       "      <td>1.3204</td>\n",
       "      <td>100.0</td>\n",
       "      <td>104.2367</td>\n",
       "      <td>0.1217</td>\n",
       "      <td>...</td>\n",
       "      <td>0.0044</td>\n",
       "      <td>73.8432</td>\n",
       "      <td>0.4990</td>\n",
       "      <td>0.0103</td>\n",
       "      <td>0.0025</td>\n",
       "      <td>2.0544</td>\n",
       "      <td>0.0202</td>\n",
       "      <td>0.0149</td>\n",
       "      <td>0.0044</td>\n",
       "      <td>73.8432</td>\n",
       "    </tr>\n",
       "    <tr>\n",
       "      <th>4</th>\n",
       "      <td>2008-07-19 15:22:00</td>\n",
       "      <td>Pass</td>\n",
       "      <td>3032.24</td>\n",
       "      <td>2502.87</td>\n",
       "      <td>2233.3667</td>\n",
       "      <td>1326.5200</td>\n",
       "      <td>1.5334</td>\n",
       "      <td>100.0</td>\n",
       "      <td>100.3967</td>\n",
       "      <td>0.1235</td>\n",
       "      <td>...</td>\n",
       "      <td>NaN</td>\n",
       "      <td>NaN</td>\n",
       "      <td>0.4800</td>\n",
       "      <td>0.4766</td>\n",
       "      <td>0.1045</td>\n",
       "      <td>99.3032</td>\n",
       "      <td>0.0202</td>\n",
       "      <td>0.0149</td>\n",
       "      <td>0.0044</td>\n",
       "      <td>73.8432</td>\n",
       "    </tr>\n",
       "  </tbody>\n",
       "</table>\n",
       "<p>5 rows × 592 columns</p>\n",
       "</div>"
      ],
      "text/plain": [
       "                 Time Label  Measment 0  Measment 1  Measment 2  Measment 3  \\\n",
       "0 2008-07-19 11:55:00  Pass     3030.93     2564.00   2187.7333   1411.1265   \n",
       "1 2008-07-19 12:32:00  Pass     3095.78     2465.14   2230.4222   1463.6606   \n",
       "2 2008-07-19 13:17:00  Fail     2932.61     2559.94   2186.4111   1698.0172   \n",
       "3 2008-07-19 14:43:00  Pass     2988.72     2479.90   2199.0333    909.7926   \n",
       "4 2008-07-19 15:22:00  Pass     3032.24     2502.87   2233.3667   1326.5200   \n",
       "\n",
       "   Measment 4  Measment 5  Measment 6  Measment 7      ...       Measment 580  \\\n",
       "0      1.3602       100.0     97.6133      0.1242      ...                NaN   \n",
       "1      0.8294       100.0    102.3433      0.1247      ...             0.0060   \n",
       "2      1.5102       100.0     95.4878      0.1241      ...             0.0148   \n",
       "3      1.3204       100.0    104.2367      0.1217      ...             0.0044   \n",
       "4      1.5334       100.0    100.3967      0.1235      ...                NaN   \n",
       "\n",
       "   Measment 581  Measment 582  Measment 583  Measment 584  Measment 585  \\\n",
       "0           NaN        0.5005        0.0118        0.0035        2.3630   \n",
       "1      208.2045        0.5019        0.0223        0.0055        4.4447   \n",
       "2       82.8602        0.4958        0.0157        0.0039        3.1745   \n",
       "3       73.8432        0.4990        0.0103        0.0025        2.0544   \n",
       "4           NaN        0.4800        0.4766        0.1045       99.3032   \n",
       "\n",
       "   Measment 586  Measment 587  Measment 588  Measment 589  \n",
       "0           NaN           NaN           NaN           NaN  \n",
       "1        0.0096        0.0201        0.0060      208.2045  \n",
       "2        0.0584        0.0484        0.0148       82.8602  \n",
       "3        0.0202        0.0149        0.0044       73.8432  \n",
       "4        0.0202        0.0149        0.0044       73.8432  \n",
       "\n",
       "[5 rows x 592 columns]"
      ]
     },
     "metadata": {},
     "output_type": "display_data"
    }
   ],
   "source": [
    "display(df.head())"
   ]
  },
  {
   "cell_type": "markdown",
   "metadata": {},
   "source": [
    "## Save"
   ]
  },
  {
   "cell_type": "code",
   "execution_count": 10,
   "metadata": {},
   "outputs": [],
   "source": [
    "data_dict = {\n",
    "    'meta': df_header,\n",
    "    'measurements': df_value,\n",
    "}\n",
    "\n",
    "pd.Series(data_dict).to_pickle('data.pkl')"
   ]
  },
  {
   "cell_type": "code",
   "execution_count": null,
   "metadata": {},
   "outputs": [],
   "source": []
  }
 ],
 "metadata": {
  "kernelspec": {
   "display_name": "Python 3",
   "language": "python",
   "name": "python3"
  },
  "language_info": {
   "codemirror_mode": {
    "name": "ipython",
    "version": 3
   },
   "file_extension": ".py",
   "mimetype": "text/x-python",
   "name": "python",
   "nbconvert_exporter": "python",
   "pygments_lexer": "ipython3",
   "version": "3.6.5"
  }
 },
 "nbformat": 4,
 "nbformat_minor": 2
}
